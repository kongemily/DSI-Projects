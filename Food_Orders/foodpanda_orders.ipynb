{
 "cells": [
  {
   "cell_type": "code",
   "execution_count": null,
   "metadata": {},
   "outputs": [],
   "source": [
    "import requests\n",
    "from bs4 import BeautifulSoup\n",
    "import pandas as pd\n",
    "import datetime\n",
    "\n",
    "from requests.packages.urllib3.exceptions import InsecureRequestWarning\n",
    "requests.packages.urllib3.disable_warnings(InsecureRequestWarning)\n",
    "\n",
    "\n",
    "# Get all foodpanda orders\n",
    "def get_foodpanda_orders(orders, cookie):\n",
    "\n",
    "    url = \"https://www.foodpanda.sg/orders\"\n",
    "\n",
    "    headers = {\n",
    "    #Insert cookies\n",
    "    }\n",
    "\n",
    "    resp = requests.get('https://www.foodpanda.sg/orders', headers=headers)\n",
    "    html = resp.content\n",
    "\n",
    "    soup = BeautifulSoup(html, 'html.parser')\n",
    "\n",
    "    order_entry = soup.findAll('li')\n",
    "\n",
    "    order_entry = list(set(order_entry))\n",
    "\n",
    "    \n",
    "    for order in order_entry:\n",
    "        if order is not None:\n",
    "\n",
    "            order_plc_date = order.find(\"span\", {\"class\": \"vendor-name\"})\n",
    "            print(order_plc_date)\n",
    "            print(orders)\n",
    "            \n",
    "            if order_plc_date is not None:\n",
    "                vendor = order_plc_date.getText().strip().replace(\"\\n\", \"\").split(\",\", 1)[0]\n",
    "\n",
    "                order_date = order.find(\"div\", {\"class\": \"order-date\"}).getText().strip()\n",
    "                order_date = datetime.datetime.strptime(order_date, \"%d %b, %Y\")\n",
    "            else:\n",
    "                continue\n",
    "\n",
    "            bill = order.find(\"span\", {\"class\": \"total\"})\n",
    "\n",
    "            if bill is not None:\n",
    "                print(bill.getText())\n",
    "                cost = bill.getText().strip()\n",
    "\n",
    "            contents = order.find(\"div\", {\"class\": \"order-product-list\"})\n",
    "\n",
    "            if contents is not None:\n",
    "                food = contents.getText().split(\"\\n\")\n",
    "                items = [i.strip() for i in food if i.strip()]\n",
    "\n",
    "            orders.append({'Restaurant': vendor, 'Date': order_date,\n",
    "                           'Cost': cost, 'Items': items,\n",
    "                           'Service': 'foodpanda'})\n",
    "\n",
    "    return orders\n",
    "\n",
    "\n",
    "\n"
   ]
  },
  {
   "cell_type": "code",
   "execution_count": null,
   "metadata": {
    "scrolled": false
   },
   "outputs": [],
   "source": [
    "# Store all orders in a list\n",
    "orders = []\n",
    "\n",
    "# Get foodpanda order for all users\n",
    "foodpanda_orders = get_foodpanda_orders(orders, [])\n",
    "\n",
    "# Convert orders to pandas dataframe\n",
    "df = pd.DataFrame(orders)\n",
    "\n",
    "# Export dataframe into csv file\n",
    "df.to_csv(\"foodpanda_orders.csv\", index=False)"
   ]
  }
 ],
 "metadata": {
  "kernelspec": {
   "display_name": "Python 3",
   "language": "python",
   "name": "python3"
  },
  "language_info": {
   "codemirror_mode": {
    "name": "ipython",
    "version": 3
   },
   "file_extension": ".py",
   "mimetype": "text/x-python",
   "name": "python",
   "nbconvert_exporter": "python",
   "pygments_lexer": "ipython3",
   "version": "3.7.7"
  }
 },
 "nbformat": 4,
 "nbformat_minor": 4
}
